{
 "cells": [
  {
   "cell_type": "code",
   "execution_count": 165,
   "metadata": {},
   "outputs": [],
   "source": [
    "import numpy as np\n",
    "import pandas as pd\n",
    "from sklearn.linear_model import LogisticRegression\n",
    "from sklearn.neighbors import NearestNeighbors\n",
    "from matplotlib import pyplot as plt\n",
    "from scipy import stats"
   ]
  },
  {
   "cell_type": "code",
   "execution_count": 166,
   "metadata": {},
   "outputs": [
    {
     "data": {
      "text/html": [
       "<div>\n",
       "<style scoped>\n",
       "    .dataframe tbody tr th:only-of-type {\n",
       "        vertical-align: middle;\n",
       "    }\n",
       "\n",
       "    .dataframe tbody tr th {\n",
       "        vertical-align: top;\n",
       "    }\n",
       "\n",
       "    .dataframe thead th {\n",
       "        text-align: right;\n",
       "    }\n",
       "</style>\n",
       "<table border=\"1\" class=\"dataframe\">\n",
       "  <thead>\n",
       "    <tr style=\"text-align: right;\">\n",
       "      <th></th>\n",
       "      <th>id</th>\n",
       "      <th>heart_attack</th>\n",
       "      <th>relative_heart_attack</th>\n",
       "      <th>gender</th>\n",
       "      <th>age</th>\n",
       "      <th>race</th>\n",
       "      <th>edu</th>\n",
       "      <th>annual_income</th>\n",
       "      <th>weight</th>\n",
       "      <th>bmi</th>\n",
       "      <th>...</th>\n",
       "      <th>blood_press</th>\n",
       "      <th>blood_press2</th>\n",
       "      <th>hyper_med</th>\n",
       "      <th>hbq_med</th>\n",
       "      <th>high_chol</th>\n",
       "      <th>meadial_access</th>\n",
       "      <th>cover_hc</th>\n",
       "      <th>health_diet</th>\n",
       "      <th>year_smoke</th>\n",
       "      <th>year_hyper</th>\n",
       "    </tr>\n",
       "  </thead>\n",
       "  <tbody>\n",
       "    <tr>\n",
       "      <th>0</th>\n",
       "      <td>93705</td>\n",
       "      <td>0</td>\n",
       "      <td>0</td>\n",
       "      <td>2</td>\n",
       "      <td>66</td>\n",
       "      <td>4</td>\n",
       "      <td>2</td>\n",
       "      <td>3</td>\n",
       "      <td>8614.571172</td>\n",
       "      <td>31.7</td>\n",
       "      <td>...</td>\n",
       "      <td>1</td>\n",
       "      <td>1</td>\n",
       "      <td>1</td>\n",
       "      <td>1</td>\n",
       "      <td>0</td>\n",
       "      <td>1</td>\n",
       "      <td>1</td>\n",
       "      <td>2</td>\n",
       "      <td>50</td>\n",
       "      <td>16</td>\n",
       "    </tr>\n",
       "    <tr>\n",
       "      <th>1</th>\n",
       "      <td>93708</td>\n",
       "      <td>0</td>\n",
       "      <td>0</td>\n",
       "      <td>2</td>\n",
       "      <td>66</td>\n",
       "      <td>5</td>\n",
       "      <td>1</td>\n",
       "      <td>6</td>\n",
       "      <td>13329.450589</td>\n",
       "      <td>23.7</td>\n",
       "      <td>...</td>\n",
       "      <td>1</td>\n",
       "      <td>1</td>\n",
       "      <td>1</td>\n",
       "      <td>1</td>\n",
       "      <td>1</td>\n",
       "      <td>1</td>\n",
       "      <td>1</td>\n",
       "      <td>4</td>\n",
       "      <td>0</td>\n",
       "      <td>16</td>\n",
       "    </tr>\n",
       "    <tr>\n",
       "      <th>2</th>\n",
       "      <td>93709</td>\n",
       "      <td>0</td>\n",
       "      <td>0</td>\n",
       "      <td>2</td>\n",
       "      <td>75</td>\n",
       "      <td>4</td>\n",
       "      <td>4</td>\n",
       "      <td>2</td>\n",
       "      <td>12043.388271</td>\n",
       "      <td>38.9</td>\n",
       "      <td>...</td>\n",
       "      <td>1</td>\n",
       "      <td>1</td>\n",
       "      <td>1</td>\n",
       "      <td>1</td>\n",
       "      <td>0</td>\n",
       "      <td>1</td>\n",
       "      <td>1</td>\n",
       "      <td>2</td>\n",
       "      <td>60</td>\n",
       "      <td>4</td>\n",
       "    </tr>\n",
       "    <tr>\n",
       "      <th>3</th>\n",
       "      <td>93711</td>\n",
       "      <td>0</td>\n",
       "      <td>1</td>\n",
       "      <td>1</td>\n",
       "      <td>56</td>\n",
       "      <td>5</td>\n",
       "      <td>5</td>\n",
       "      <td>15</td>\n",
       "      <td>11178.260106</td>\n",
       "      <td>21.3</td>\n",
       "      <td>...</td>\n",
       "      <td>0</td>\n",
       "      <td>0</td>\n",
       "      <td>0</td>\n",
       "      <td>0</td>\n",
       "      <td>1</td>\n",
       "      <td>1</td>\n",
       "      <td>1</td>\n",
       "      <td>3</td>\n",
       "      <td>0</td>\n",
       "      <td>0</td>\n",
       "    </tr>\n",
       "    <tr>\n",
       "      <th>4</th>\n",
       "      <td>93713</td>\n",
       "      <td>0</td>\n",
       "      <td>0</td>\n",
       "      <td>1</td>\n",
       "      <td>67</td>\n",
       "      <td>3</td>\n",
       "      <td>3</td>\n",
       "      <td>6</td>\n",
       "      <td>174806.575152</td>\n",
       "      <td>23.5</td>\n",
       "      <td>...</td>\n",
       "      <td>0</td>\n",
       "      <td>0</td>\n",
       "      <td>0</td>\n",
       "      <td>0</td>\n",
       "      <td>0</td>\n",
       "      <td>1</td>\n",
       "      <td>1</td>\n",
       "      <td>1</td>\n",
       "      <td>53</td>\n",
       "      <td>0</td>\n",
       "    </tr>\n",
       "  </tbody>\n",
       "</table>\n",
       "<p>5 rows × 24 columns</p>\n",
       "</div>"
      ],
      "text/plain": [
       "      id  heart_attack  relative_heart_attack  gender  age  race  edu  \\\n",
       "0  93705             0                      0       2   66     4    2   \n",
       "1  93708             0                      0       2   66     5    1   \n",
       "2  93709             0                      0       2   75     4    4   \n",
       "3  93711             0                      1       1   56     5    5   \n",
       "4  93713             0                      0       1   67     3    3   \n",
       "\n",
       "   annual_income         weight   bmi  ...  blood_press  blood_press2  \\\n",
       "0              3    8614.571172  31.7  ...            1             1   \n",
       "1              6   13329.450589  23.7  ...            1             1   \n",
       "2              2   12043.388271  38.9  ...            1             1   \n",
       "3             15   11178.260106  21.3  ...            0             0   \n",
       "4              6  174806.575152  23.5  ...            0             0   \n",
       "\n",
       "   hyper_med  hbq_med  high_chol  meadial_access  cover_hc  health_diet  \\\n",
       "0          1        1          0               1         1            2   \n",
       "1          1        1          1               1         1            4   \n",
       "2          1        1          0               1         1            2   \n",
       "3          0        0          1               1         1            3   \n",
       "4          0        0          0               1         1            1   \n",
       "\n",
       "   year_smoke  year_hyper  \n",
       "0          50          16  \n",
       "1           0          16  \n",
       "2          60           4  \n",
       "3           0           0  \n",
       "4          53           0  \n",
       "\n",
       "[5 rows x 24 columns]"
      ]
     },
     "execution_count": 166,
     "metadata": {},
     "output_type": "execute_result"
    }
   ],
   "source": [
    "nhanes = pd.read_csv('../data/nhanes.csv')\n",
    "nhanes.head()"
   ]
  },
  {
   "cell_type": "code",
   "execution_count": 167,
   "metadata": {},
   "outputs": [
    {
     "data": {
      "text/plain": [
       "Index(['id', 'heart_attack', 'relative_heart_attack', 'gender', 'age', 'race',\n",
       "       'edu', 'annual_income', 'weight', 'bmi', 'diabete', 'smoke_life',\n",
       "       'phy_vigorous', 'phy_moderate', 'blood_press', 'blood_press2',\n",
       "       'hyper_med', 'hbq_med', 'high_chol', 'meadial_access', 'cover_hc',\n",
       "       'health_diet', 'year_smoke', 'year_hyper'],\n",
       "      dtype='object')"
      ]
     },
     "execution_count": 167,
     "metadata": {},
     "output_type": "execute_result"
    }
   ],
   "source": [
    "nhanes.columns"
   ]
  },
  {
   "cell_type": "code",
   "execution_count": 168,
   "metadata": {},
   "outputs": [],
   "source": [
    "nhanes_X = nhanes.drop(columns=['id', 'heart_attack','diabete','weight'])\n",
    "nhanes_diab = nhanes['diabete']\n",
    "weight = nhanes['weight']"
   ]
  },
  {
   "cell_type": "markdown",
   "metadata": {},
   "source": [
    "## Estimate propensity score by fitting a logistic regression model."
   ]
  },
  {
   "cell_type": "code",
   "execution_count": 179,
   "metadata": {},
   "outputs": [],
   "source": [
    "clf = LogisticRegression(random_state=0, max_iter = 1000)\n",
    "clf.fit(nhanes_X, nhanes_diab, sample_weight = weight)\n",
    "prop_score = clf.predict_proba(nhanes_X)[:,1]"
   ]
  },
  {
   "cell_type": "code",
   "execution_count": 180,
   "metadata": {},
   "outputs": [],
   "source": [
    "dia_idx = np.where(nhanes['diabete'].values==1)\n",
    "non_dia_idx = np.where(nhanes['diabete'].values==0)"
   ]
  },
  {
   "cell_type": "markdown",
   "metadata": {},
   "source": [
    "## Use Nearest-Neighborhood to match the diabete and non-diabete patients on the estimated propensity scores."
   ]
  },
  {
   "cell_type": "code",
   "execution_count": 181,
   "metadata": {},
   "outputs": [],
   "source": [
    "nbrs = NearestNeighbors(n_neighbors=1, algorithm='ball_tree')\n",
    "nbrs.fit(prop_score[non_dia_idx].reshape(4429,1))\n",
    "distances, idx = nbrs.kneighbors(prop_score[dia_idx].reshape([836,1]))"
   ]
  },
  {
   "cell_type": "code",
   "execution_count": 190,
   "metadata": {},
   "outputs": [],
   "source": [
    "matched_idx = non_dia_idx[0][idx.reshape(836,)]\n",
    "heart_matched = nhanes['heart_attack'].values[matched_idx]\n",
    "heart_non_dia = nhanes['heart_attack'].values[non_dia_idx]\n",
    "heart_dia = nhanes['heart_attack'].values[dia_idx]"
   ]
  },
  {
   "cell_type": "markdown",
   "metadata": {},
   "source": [
    "## Use T-test to figure out the effect of diabetes on heart attack"
   ]
  },
  {
   "cell_type": "code",
   "execution_count": 191,
   "metadata": {},
   "outputs": [
    {
     "data": {
      "text/plain": [
       "0.13516746411483255"
      ]
     },
     "execution_count": 191,
     "metadata": {},
     "output_type": "execute_result"
    }
   ],
   "source": [
    "# proportion of heart attack for people with diabetes\n",
    "np.sum(heart_dia)/len(heart_dia)"
   ]
  },
  {
   "cell_type": "code",
   "execution_count": 192,
   "metadata": {},
   "outputs": [
    {
     "data": {
      "text/plain": [
       "0.03183562881011515"
      ]
     },
     "execution_count": 192,
     "metadata": {},
     "output_type": "execute_result"
    }
   ],
   "source": [
    "# proportion of heart attack for all the people don't have diabetese\n",
    "np.sum(heart_non_dia)/len(heart_non_dia)"
   ]
  },
  {
   "cell_type": "code",
   "execution_count": 193,
   "metadata": {},
   "outputs": [
    {
     "data": {
      "text/plain": [
       "0.07535885167464115"
      ]
     },
     "execution_count": 193,
     "metadata": {},
     "output_type": "execute_result"
    }
   ],
   "source": [
    "# proportion of heart attack for people don't have diabetes matched by propensity score\n",
    "np.sum(heart_matched)/len(heart_matched)"
   ]
  },
  {
   "cell_type": "code",
   "execution_count": 194,
   "metadata": {},
   "outputs": [
    {
     "data": {
      "text/plain": [
       "Ttest_indResult(statistic=-4.001084992191622, pvalue=6.580948559370417e-05)"
      ]
     },
     "execution_count": 194,
     "metadata": {},
     "output_type": "execute_result"
    }
   ],
   "source": [
    "stats.ttest_ind(heart_matched, heart_dia)"
   ]
  },
  {
   "cell_type": "code",
   "execution_count": null,
   "metadata": {},
   "outputs": [],
   "source": []
  }
 ],
 "metadata": {
  "kernelspec": {
   "display_name": "Python 3",
   "language": "python",
   "name": "python3"
  },
  "language_info": {
   "codemirror_mode": {
    "name": "ipython",
    "version": 3
   },
   "file_extension": ".py",
   "mimetype": "text/x-python",
   "name": "python",
   "nbconvert_exporter": "python",
   "pygments_lexer": "ipython3",
   "version": "3.8.3"
  }
 },
 "nbformat": 4,
 "nbformat_minor": 4
}
