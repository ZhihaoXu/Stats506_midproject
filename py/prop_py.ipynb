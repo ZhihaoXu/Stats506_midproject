{
 "cells": [
  {
   "cell_type": "code",
   "execution_count": 1,
   "metadata": {},
   "outputs": [],
   "source": [
    "import numpy as np\n",
    "import pandas as pd\n",
    "from sklearn.linear_model import LogisticRegression\n",
    "from sklearn.neighbors import NearestNeighbors\n",
    "from statsmodels.stats.weightstats import ttest_ind\n",
    "from matplotlib import pyplot as plt\n",
    "from scipy import stats"
   ]
  },
  {
   "cell_type": "code",
   "execution_count": 2,
   "metadata": {},
   "outputs": [
    {
     "data": {
      "text/html": [
       "<div>\n",
       "<style scoped>\n",
       "    .dataframe tbody tr th:only-of-type {\n",
       "        vertical-align: middle;\n",
       "    }\n",
       "\n",
       "    .dataframe tbody tr th {\n",
       "        vertical-align: top;\n",
       "    }\n",
       "\n",
       "    .dataframe thead th {\n",
       "        text-align: right;\n",
       "    }\n",
       "</style>\n",
       "<table border=\"1\" class=\"dataframe\">\n",
       "  <thead>\n",
       "    <tr style=\"text-align: right;\">\n",
       "      <th></th>\n",
       "      <th>id</th>\n",
       "      <th>heart_attack</th>\n",
       "      <th>relative_heart_attack</th>\n",
       "      <th>gender</th>\n",
       "      <th>age</th>\n",
       "      <th>race</th>\n",
       "      <th>edu</th>\n",
       "      <th>annual_income</th>\n",
       "      <th>weight</th>\n",
       "      <th>bmi</th>\n",
       "      <th>...</th>\n",
       "      <th>blood_press</th>\n",
       "      <th>blood_press2</th>\n",
       "      <th>hyper_med</th>\n",
       "      <th>hbq_med</th>\n",
       "      <th>high_chol</th>\n",
       "      <th>meadial_access</th>\n",
       "      <th>cover_hc</th>\n",
       "      <th>health_diet</th>\n",
       "      <th>year_smoke</th>\n",
       "      <th>year_hyper</th>\n",
       "    </tr>\n",
       "  </thead>\n",
       "  <tbody>\n",
       "    <tr>\n",
       "      <th>0</th>\n",
       "      <td>93705</td>\n",
       "      <td>0</td>\n",
       "      <td>0</td>\n",
       "      <td>2</td>\n",
       "      <td>66</td>\n",
       "      <td>4</td>\n",
       "      <td>2</td>\n",
       "      <td>3</td>\n",
       "      <td>8614.571172</td>\n",
       "      <td>31.7</td>\n",
       "      <td>...</td>\n",
       "      <td>1</td>\n",
       "      <td>1</td>\n",
       "      <td>1</td>\n",
       "      <td>1</td>\n",
       "      <td>0</td>\n",
       "      <td>1</td>\n",
       "      <td>1</td>\n",
       "      <td>2</td>\n",
       "      <td>50</td>\n",
       "      <td>16</td>\n",
       "    </tr>\n",
       "    <tr>\n",
       "      <th>1</th>\n",
       "      <td>93708</td>\n",
       "      <td>0</td>\n",
       "      <td>0</td>\n",
       "      <td>2</td>\n",
       "      <td>66</td>\n",
       "      <td>5</td>\n",
       "      <td>1</td>\n",
       "      <td>6</td>\n",
       "      <td>13329.450589</td>\n",
       "      <td>23.7</td>\n",
       "      <td>...</td>\n",
       "      <td>1</td>\n",
       "      <td>1</td>\n",
       "      <td>1</td>\n",
       "      <td>1</td>\n",
       "      <td>1</td>\n",
       "      <td>1</td>\n",
       "      <td>1</td>\n",
       "      <td>4</td>\n",
       "      <td>0</td>\n",
       "      <td>16</td>\n",
       "    </tr>\n",
       "    <tr>\n",
       "      <th>2</th>\n",
       "      <td>93709</td>\n",
       "      <td>0</td>\n",
       "      <td>0</td>\n",
       "      <td>2</td>\n",
       "      <td>75</td>\n",
       "      <td>4</td>\n",
       "      <td>4</td>\n",
       "      <td>2</td>\n",
       "      <td>12043.388271</td>\n",
       "      <td>38.9</td>\n",
       "      <td>...</td>\n",
       "      <td>1</td>\n",
       "      <td>1</td>\n",
       "      <td>1</td>\n",
       "      <td>1</td>\n",
       "      <td>0</td>\n",
       "      <td>1</td>\n",
       "      <td>1</td>\n",
       "      <td>2</td>\n",
       "      <td>60</td>\n",
       "      <td>4</td>\n",
       "    </tr>\n",
       "    <tr>\n",
       "      <th>3</th>\n",
       "      <td>93711</td>\n",
       "      <td>0</td>\n",
       "      <td>1</td>\n",
       "      <td>1</td>\n",
       "      <td>56</td>\n",
       "      <td>5</td>\n",
       "      <td>5</td>\n",
       "      <td>15</td>\n",
       "      <td>11178.260106</td>\n",
       "      <td>21.3</td>\n",
       "      <td>...</td>\n",
       "      <td>0</td>\n",
       "      <td>0</td>\n",
       "      <td>0</td>\n",
       "      <td>0</td>\n",
       "      <td>1</td>\n",
       "      <td>1</td>\n",
       "      <td>1</td>\n",
       "      <td>3</td>\n",
       "      <td>0</td>\n",
       "      <td>0</td>\n",
       "    </tr>\n",
       "    <tr>\n",
       "      <th>4</th>\n",
       "      <td>93713</td>\n",
       "      <td>0</td>\n",
       "      <td>0</td>\n",
       "      <td>1</td>\n",
       "      <td>67</td>\n",
       "      <td>3</td>\n",
       "      <td>3</td>\n",
       "      <td>6</td>\n",
       "      <td>174806.575152</td>\n",
       "      <td>23.5</td>\n",
       "      <td>...</td>\n",
       "      <td>0</td>\n",
       "      <td>0</td>\n",
       "      <td>0</td>\n",
       "      <td>0</td>\n",
       "      <td>0</td>\n",
       "      <td>1</td>\n",
       "      <td>1</td>\n",
       "      <td>1</td>\n",
       "      <td>53</td>\n",
       "      <td>0</td>\n",
       "    </tr>\n",
       "  </tbody>\n",
       "</table>\n",
       "<p>5 rows × 24 columns</p>\n",
       "</div>"
      ],
      "text/plain": [
       "      id  heart_attack  relative_heart_attack  gender  age  race  edu  \\\n",
       "0  93705             0                      0       2   66     4    2   \n",
       "1  93708             0                      0       2   66     5    1   \n",
       "2  93709             0                      0       2   75     4    4   \n",
       "3  93711             0                      1       1   56     5    5   \n",
       "4  93713             0                      0       1   67     3    3   \n",
       "\n",
       "   annual_income         weight   bmi  ...  blood_press  blood_press2  \\\n",
       "0              3    8614.571172  31.7  ...            1             1   \n",
       "1              6   13329.450589  23.7  ...            1             1   \n",
       "2              2   12043.388271  38.9  ...            1             1   \n",
       "3             15   11178.260106  21.3  ...            0             0   \n",
       "4              6  174806.575152  23.5  ...            0             0   \n",
       "\n",
       "   hyper_med  hbq_med  high_chol  meadial_access  cover_hc  health_diet  \\\n",
       "0          1        1          0               1         1            2   \n",
       "1          1        1          1               1         1            4   \n",
       "2          1        1          0               1         1            2   \n",
       "3          0        0          1               1         1            3   \n",
       "4          0        0          0               1         1            1   \n",
       "\n",
       "   year_smoke  year_hyper  \n",
       "0          50          16  \n",
       "1           0          16  \n",
       "2          60           4  \n",
       "3           0           0  \n",
       "4          53           0  \n",
       "\n",
       "[5 rows x 24 columns]"
      ]
     },
     "execution_count": 2,
     "metadata": {},
     "output_type": "execute_result"
    }
   ],
   "source": [
    "nhanes = pd.read_csv('../data/nhanes.csv')\n",
    "nhanes.head()"
   ]
  },
  {
   "cell_type": "code",
   "execution_count": 3,
   "metadata": {},
   "outputs": [
    {
     "data": {
      "text/plain": [
       "Index(['id', 'heart_attack', 'relative_heart_attack', 'gender', 'age', 'race',\n",
       "       'edu', 'annual_income', 'weight', 'bmi', 'diabete', 'smoke_life',\n",
       "       'phy_vigorous', 'phy_moderate', 'blood_press', 'blood_press2',\n",
       "       'hyper_med', 'hbq_med', 'high_chol', 'meadial_access', 'cover_hc',\n",
       "       'health_diet', 'year_smoke', 'year_hyper'],\n",
       "      dtype='object')"
      ]
     },
     "execution_count": 3,
     "metadata": {},
     "output_type": "execute_result"
    }
   ],
   "source": [
    "nhanes.columns"
   ]
  },
  {
   "cell_type": "code",
   "execution_count": 4,
   "metadata": {},
   "outputs": [],
   "source": [
    "nhanes_X = nhanes.drop(columns=['id', 'heart_attack','diabete','weight'])\n",
    "nhanes_diab = nhanes['diabete']\n",
    "weight = nhanes['weight']"
   ]
  },
  {
   "cell_type": "markdown",
   "metadata": {},
   "source": [
    "## Estimate propensity score by fitting a logistic regression model."
   ]
  },
  {
   "cell_type": "code",
   "execution_count": 5,
   "metadata": {},
   "outputs": [],
   "source": [
    "lg = LogisticRegression(random_state=0, max_iter = 1000)\n",
    "lg.fit(nhanes_X, nhanes_diab, sample_weight = weight)\n",
    "prop_score = lg.predict_proba(nhanes_X)[:,1]"
   ]
  },
  {
   "cell_type": "code",
   "execution_count": 6,
   "metadata": {},
   "outputs": [],
   "source": [
    "dia_idx = np.where(nhanes['diabete'].values==1)\n",
    "non_dia_idx = np.where(nhanes['diabete'].values==0)"
   ]
  },
  {
   "cell_type": "code",
   "execution_count": 7,
   "metadata": {},
   "outputs": [
    {
     "data": {
      "text/plain": [
       "5       1\n",
       "17      1\n",
       "22      1\n",
       "23      1\n",
       "31      1\n",
       "       ..\n",
       "5237    1\n",
       "5239    1\n",
       "5249    1\n",
       "5250    1\n",
       "5257    1\n",
       "Name: diabete, Length: 836, dtype: int64"
      ]
     },
     "execution_count": 7,
     "metadata": {},
     "output_type": "execute_result"
    }
   ],
   "source": [
    "nhanes['diabete'][dia_idx[0]]"
   ]
  },
  {
   "cell_type": "markdown",
   "metadata": {},
   "source": [
    "## Use Nearest-Neighborhood to match the diabete and non-diabete patients on the estimated propensity scores."
   ]
  },
  {
   "cell_type": "code",
   "execution_count": 8,
   "metadata": {},
   "outputs": [
    {
     "data": {
      "text/plain": [
       "1.162975281960774"
      ]
     },
     "execution_count": 8,
     "metadata": {},
     "output_type": "execute_result"
    }
   ],
   "source": [
    "prop_score_logit = np.log(prop_score / (1 - prop_score))\n",
    "std = np.std(prop_score_logit[dia_idx])\n",
    "std"
   ]
  },
  {
   "cell_type": "code",
   "execution_count": 9,
   "metadata": {},
   "outputs": [],
   "source": [
    "result = [0]*len(prop_score_logit[dia_idx])\n",
    "for i in range(len(prop_score_logit[dia_idx])):\n",
    "    dif = prop_score_logit[dia_idx][i] - prop_score_logit[non_dia_idx]\n",
    "    dif[np.array(result)[np.array(result)!=0]] = 100\n",
    "    min_val = min(abs(dif))\n",
    "    if min_val > 0.2*std:\n",
    "        result[i] = 0\n",
    "    else:\n",
    "        result[i] = np.where(abs(dif)==min_val)[0][0]"
   ]
  },
  {
   "cell_type": "code",
   "execution_count": 10,
   "metadata": {},
   "outputs": [
    {
     "data": {
      "text/plain": [
       "23"
      ]
     },
     "execution_count": 10,
     "metadata": {},
     "output_type": "execute_result"
    }
   ],
   "source": [
    "np.sum(np.array(result) == 0)"
   ]
  },
  {
   "cell_type": "code",
   "execution_count": 11,
   "metadata": {},
   "outputs": [],
   "source": [
    "result = np.array(result)\n",
    "dia_idx_matched = dia_idx[0][result!=0]\n",
    "result = result[result!=0]"
   ]
  },
  {
   "cell_type": "code",
   "execution_count": 12,
   "metadata": {},
   "outputs": [],
   "source": [
    "matched_idx = non_dia_idx[0][result]\n",
    "heart_matched = nhanes['heart_attack'].values[matched_idx]\n",
    "heart_non_dia = nhanes['heart_attack'].values[non_dia_idx]\n",
    "heart_dia_matched = nhanes['heart_attack'].values[dia_idx_matched]"
   ]
  },
  {
   "cell_type": "markdown",
   "metadata": {},
   "source": [
    "## Use T-test to figure out the effect of diabetes on heart attack"
   ]
  },
  {
   "cell_type": "code",
   "execution_count": 15,
   "metadata": {},
   "outputs": [
    {
     "data": {
      "text/plain": [
       "0.13161131611316113"
      ]
     },
     "execution_count": 15,
     "metadata": {},
     "output_type": "execute_result"
    }
   ],
   "source": [
    "# proportion of heart attack for people with diabetes\n",
    "np.sum(heart_dia_matched)/len(heart_dia_matched)"
   ]
  },
  {
   "cell_type": "code",
   "execution_count": 16,
   "metadata": {},
   "outputs": [
    {
     "data": {
      "text/plain": [
       "0.03183562881011515"
      ]
     },
     "execution_count": 16,
     "metadata": {},
     "output_type": "execute_result"
    }
   ],
   "source": [
    "# proportion of heart attack for all the people don't have diabetese\n",
    "np.sum(heart_non_dia)/len(heart_non_dia)"
   ]
  },
  {
   "cell_type": "code",
   "execution_count": 17,
   "metadata": {},
   "outputs": [
    {
     "data": {
      "text/plain": [
       "0.07626076260762607"
      ]
     },
     "execution_count": 17,
     "metadata": {},
     "output_type": "execute_result"
    }
   ],
   "source": [
    "# proportion of heart attack for people don't have diabetes matched by propensity score\n",
    "np.sum(heart_matched)/len(heart_matched)"
   ]
  },
  {
   "cell_type": "code",
   "execution_count": 19,
   "metadata": {},
   "outputs": [
    {
     "data": {
      "text/plain": [
       "Ttest_indResult(statistic=-3.6696579278558916, pvalue=0.00025072202075522923)"
      ]
     },
     "execution_count": 19,
     "metadata": {},
     "output_type": "execute_result"
    }
   ],
   "source": [
    "stats.ttest_ind(heart_matched, heart_dia_matched)"
   ]
  },
  {
   "cell_type": "code",
   "execution_count": 20,
   "metadata": {},
   "outputs": [
    {
     "data": {
      "text/plain": [
       "(1213.7422353842449, 0.0, 40634737.39405689)"
      ]
     },
     "execution_count": 20,
     "metadata": {},
     "output_type": "execute_result"
    }
   ],
   "source": [
    "ttest_ind(heart_dia_matched, heart_matched, usevar='unequal', weights=(weight[dia_idx_matched], weight[matched_idx]))"
   ]
  },
  {
   "cell_type": "code",
   "execution_count": null,
   "metadata": {},
   "outputs": [],
   "source": [
    "heart_dia_matched"
   ]
  },
  {
   "cell_type": "code",
   "execution_count": 24,
   "metadata": {},
   "outputs": [
    {
     "data": {
      "text/plain": [
       "2091154"
      ]
     },
     "execution_count": 24,
     "metadata": {},
     "output_type": "execute_result"
    }
   ],
   "source": [
    "np.sum(dia_idx_matched)"
   ]
  },
  {
   "cell_type": "code",
   "execution_count": null,
   "metadata": {},
   "outputs": [],
   "source": []
  }
 ],
 "metadata": {
  "kernelspec": {
   "display_name": "Python 3",
   "language": "python",
   "name": "python3"
  },
  "language_info": {
   "codemirror_mode": {
    "name": "ipython",
    "version": 3
   },
   "file_extension": ".py",
   "mimetype": "text/x-python",
   "name": "python",
   "nbconvert_exporter": "python",
   "pygments_lexer": "ipython3",
   "version": "3.8.3"
  }
 },
 "nbformat": 4,
 "nbformat_minor": 4
}
